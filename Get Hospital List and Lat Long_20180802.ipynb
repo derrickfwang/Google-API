{
 "cells": [
  {
   "cell_type": "code",
   "execution_count": 1,
   "metadata": {
    "collapsed": true
   },
   "outputs": [],
   "source": [
    "import os\n",
    "import pandas as pd\n",
    "import nltk\n",
    "os.chdir(r'C:\\...................')\n"
   ]
  },
  {
   "cell_type": "code",
   "execution_count": 44,
   "metadata": {
    "collapsed": true
   },
   "outputs": [],
   "source": [
    "import geopy.distance\n",
    "import googleplaces\n",
    "from googleplaces import GooglePlaces, types, lang\n",
    "import pandas as pd\n",
    "#import numpy as np\n",
    "\n",
    "API_KEY = '................'\n",
    "google_places = GooglePlaces(API_KEY)\n",
    "\n",
    "def queryGooglePlace(lat, lng, radius):\n",
    "    query_result = google_places.nearby_search(\n",
    "        lat_lng={'lat': lat, 'lng': lng}, \n",
    "        radius=radius,\n",
    "        types=[types.TYPE_HOSPITAL])\n",
    "    return query_result\n",
    "\n",
    "def extractData(queryRst,lat, lng):\n",
    "    Rst = pd.DataFrame(index = range(1000), columns = ['HospitalName', 'Latitude', 'Longitude','DistanceInMiles'])\n",
    "    for i in range(len(queryRst.places)):\n",
    "        Rst['HospitalName'][i] = queryRst.places[i].name\n",
    "        Rst['Latitude'][i] = queryRst.places[i].geo_location['lat']\n",
    "        Rst['Longitude'][i] = queryRst.places[i].geo_location['lng']\n",
    "        Rst['DistanceInMiles'][i] = geopy.distance.vincenty((lat, lng), (Rst['Latitude'][i], Rst['Longitude'][i])).miles\n",
    "\n",
    "    Rst = Rst.dropna(how='all')  \n",
    "    return Rst\n",
    "    "
   ]
  },
  {
   "cell_type": "code",
   "execution_count": 49,
   "metadata": {
    "collapsed": false
   },
   "outputs": [],
   "source": [
    "stp = 0.1\n",
    "startLat = 31.99\n",
    "startLng = -106.61\n",
    "\n",
    "dfList = []\n",
    "\n",
    "for la in range(5):\n",
    "    for lg in range(5):\n",
    "        lat = round(startLat - stp * la, 2)\n",
    "        lng = round(startLng + stp * lg, 2)\n",
    "        queryRst = queryGooglePlace(lat, lng, 7285)\n",
    "        Rst = extractData(queryRst,lat, lng)\n",
    "        dfList.append(Rst)\n",
    "    \n",
    "        "
   ]
  },
  {
   "cell_type": "code",
   "execution_count": 50,
   "metadata": {
    "collapsed": false
   },
   "outputs": [
    {
     "data": {
      "text/plain": [
       "25"
      ]
     },
     "execution_count": 50,
     "metadata": {},
     "output_type": "execute_result"
    }
   ],
   "source": [
    "len(dfList)"
   ]
  },
  {
   "cell_type": "code",
   "execution_count": 51,
   "metadata": {
    "collapsed": false
   },
   "outputs": [
    {
     "data": {
      "text/plain": [
       "216"
      ]
     },
     "execution_count": 51,
     "metadata": {},
     "output_type": "execute_result"
    }
   ],
   "source": [
    "fnl = pd.concat(dfList, axis=0)\n",
    "len(fnl)"
   ]
  },
  {
   "cell_type": "code",
   "execution_count": 59,
   "metadata": {
    "collapsed": false
   },
   "outputs": [
    {
     "data": {
      "text/plain": [
       "Index(['HospitalName', 'Latitude', 'Longitude', 'DistanceInMiles'], dtype='object')"
      ]
     },
     "execution_count": 59,
     "metadata": {},
     "output_type": "execute_result"
    }
   ],
   "source": [
    "fnl.columns"
   ]
  },
  {
   "cell_type": "code",
   "execution_count": 60,
   "metadata": {
    "collapsed": false
   },
   "outputs": [
    {
     "data": {
      "text/plain": [
       "169"
      ]
     },
     "execution_count": 60,
     "metadata": {},
     "output_type": "execute_result"
    }
   ],
   "source": [
    "fnl1  = fnl[['HospitalName', 'Latitude', 'Longitude']].drop_duplicates()\n",
    "len(fnl1)"
   ]
  },
  {
   "cell_type": "code",
   "execution_count": 61,
   "metadata": {
    "collapsed": true
   },
   "outputs": [],
   "source": [
    "fnl1.to_excel('ElPasoHospitals.xlsx', index=False)"
   ]
  },
  {
   "cell_type": "code",
   "execution_count": null,
   "metadata": {
    "collapsed": true
   },
   "outputs": [],
   "source": []
  }
 ],
 "metadata": {
  "anaconda-cloud": {},
  "kernelspec": {
   "display_name": "Python [default]",
   "language": "python",
   "name": "python3"
  },
  "language_info": {
   "codemirror_mode": {
    "name": "ipython",
    "version": 3
   },
   "file_extension": ".py",
   "mimetype": "text/x-python",
   "name": "python",
   "nbconvert_exporter": "python",
   "pygments_lexer": "ipython3",
   "version": "3.5.2"
  }
 },
 "nbformat": 4,
 "nbformat_minor": 1
}
